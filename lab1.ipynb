{
  "nbformat": 4,
  "nbformat_minor": 0,
  "metadata": {
    "colab": {
      "provenance": [],
      "authorship_tag": "ABX9TyM5UbLCuXfDYfeg5gb5pity",
      "include_colab_link": true
    },
    "kernelspec": {
      "name": "python3",
      "display_name": "Python 3"
    },
    "language_info": {
      "name": "python"
    }
  },
  "cells": [
    {
      "cell_type": "markdown",
      "metadata": {
        "id": "view-in-github",
        "colab_type": "text"
      },
      "source": [
        "<a href=\"https://colab.research.google.com/github/Lokitha-S/Nlp_lab/blob/main/lab1.ipynb\" target=\"_parent\"><img src=\"https://colab.research.google.com/assets/colab-badge.svg\" alt=\"Open In Colab\"/></a>"
      ]
    },
    {
      "cell_type": "markdown",
      "source": [
        "Write a Python program for the following preprocessing of text in NLP:\n",
        "● Tokenization\n",
        "● Filtration\n",
        "● Script Validation\n",
        "● Stop Word Removal\n",
        "● Stemming\n"
      ],
      "metadata": {
        "id": "1YAEX5ee5ihG"
      }
    },
    {
      "cell_type": "code",
      "source": [
        "import nltk\n",
        "from nltk.tokenize import word_tokenize\n",
        "from nltk.corpus import stopwords\n",
        "from nltk.stem import PorterStemmer\n",
        "import re\n",
        "\n",
        "# Download necessary NLTK resources\n",
        "nltk.download('punkt')\n",
        "nltk.download('stopwords')"
      ],
      "metadata": {
        "colab": {
          "base_uri": "https://localhost:8080/"
        },
        "id": "GcRCFG2c7oq1",
        "outputId": "9c0c8344-1d0b-469a-b622-ce88a41872b5"
      },
      "execution_count": 10,
      "outputs": [
        {
          "output_type": "stream",
          "name": "stderr",
          "text": [
            "[nltk_data] Downloading package punkt to /root/nltk_data...\n",
            "[nltk_data]   Package punkt is already up-to-date!\n",
            "[nltk_data] Downloading package stopwords to /root/nltk_data...\n",
            "[nltk_data]   Package stopwords is already up-to-date!\n"
          ]
        },
        {
          "output_type": "execute_result",
          "data": {
            "text/plain": [
              "True"
            ]
          },
          "metadata": {},
          "execution_count": 10
        }
      ]
    },
    {
      "cell_type": "code",
      "source": [
        "def preprocess_text(text):\n",
        "    # Tokenization\n",
        "    tokens = word_tokenize(text)\n",
        "\n",
        "    # Filtration: Remove non-alphabetic tokens\n",
        "    filtered_tokens = [token for token in tokens if token.isalpha()]\n",
        "\n",
        "    # Script Validation: Basic example to validate English script\n",
        "    validated_tokens = [token for token in filtered_tokens if re.match(r'^[a-zA-Z]+$', token)]\n",
        "\n",
        "    # Stop Word Removal\n",
        "    stop_words = set(stopwords.words('english'))\n",
        "    tokens_without_stopwords = [token for token in validated_tokens if token.lower() not in stop_words]\n",
        "\n",
        "    # Stemming\n",
        "    stemmer = PorterStemmer()\n",
        "    stemmed_tokens = [stemmer.stem(token) for token in tokens_without_stopwords]\n",
        "\n",
        "    return stemmed_tokens\n",
        "\n",
        "# Example usage\n",
        "text = \"This is a sample text for NLP preprocessing. It includes various steps like Tokenization, Filtration, Script Validation, Stop Word Removal, and Stemming.\"\n",
        "processed_text = preprocess_text(text)\n",
        "print(processed_text)\n"
      ],
      "metadata": {
        "colab": {
          "base_uri": "https://localhost:8080/"
        },
        "id": "mYhSItw3_npk",
        "outputId": "a471f1e3-3861-401a-b573-c7c81f04960e"
      },
      "execution_count": 12,
      "outputs": [
        {
          "output_type": "stream",
          "name": "stdout",
          "text": [
            "['sampl', 'text', 'nlp', 'preprocess', 'includ', 'variou', 'step', 'like', 'token', 'filtrat', 'script', 'valid', 'stop', 'word', 'remov', 'stem']\n"
          ]
        }
      ]
    },
    {
      "cell_type": "code",
      "source": [],
      "metadata": {
        "id": "keEg-_YGAD56"
      },
      "execution_count": null,
      "outputs": []
    }
  ]
}